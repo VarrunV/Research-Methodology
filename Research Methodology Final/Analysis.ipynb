{
  "nbformat": 4,
  "nbformat_minor": 0,
  "metadata": {
    "colab": {
      "name": "Analysis.ipynb",
      "provenance": [],
      "collapsed_sections": []
    },
    "kernelspec": {
      "name": "python3",
      "display_name": "Python 3"
    }
  },
  "cells": [
    {
      "cell_type": "code",
      "metadata": {
        "id": "ULF__5lc9L7p"
      },
      "source": [
        "import pandas as pd\n"
      ],
      "execution_count": null,
      "outputs": []
    },
    {
      "cell_type": "code",
      "metadata": {
        "id": "0ImhKes3a-95"
      },
      "source": [
        "# For each row set both parents accuracy and training times\n",
        "def format_df(df):\n",
        "  df2 = df\n",
        "\n",
        "  dfa = df2.rename(index=str, columns={'accuracy': 'parenta_accuracy', 'training_time':'parenta_training_time','id': 'id_a'})\n",
        "\n",
        "  dfa = dfa[[\"id_a\", \"parenta_accuracy\", \"parenta_training_time\"]]\n",
        "\n",
        "  dfb = df2.rename(index=str, columns={'accuracy': 'parentb_accuracy', 'training_time':'parentb_training_time','id': 'id_b'})\n",
        "\n",
        "  dfb = dfb[[\"id_b\", \"parentb_accuracy\", \"parentb_training_time\"]]\n",
        "\n",
        "\n",
        "  df_final = pd.merge(df, dfa, left_on='parent_a', right_on='id_a')\n",
        "\n",
        "  df_final = pd.merge(df_final, dfb, left_on='parent_b', right_on='id_b')\n",
        "\n",
        "  df_final = df_final.drop(columns=[\"id_a\", \"id_b\"])\n",
        "\n",
        "  return df_final"
      ],
      "execution_count": null,
      "outputs": []
    },
    {
      "cell_type": "code",
      "metadata": {
        "colab": {
          "base_uri": "https://localhost:8080/"
        },
        "id": "vGy6vdOd0VJf",
        "outputId": "e17c6702-97ff-49a9-86de-c063a347c975"
      },
      "source": [
        "# Merge\n",
        "\n",
        "df = pd.read_csv('result_with_merge_wine_quality.csv', header=0)\n",
        "df_merge = format_df(df)\n",
        "\n",
        "df = pd.read_csv('result_no_merge_wine_quality.csv', header=0)\n",
        "df_van = format_df(df)\n",
        "\n",
        "\n",
        "df_merge.info()\n",
        "\n",
        "df_van.info()"
      ],
      "execution_count": null,
      "outputs": [
        {
          "output_type": "stream",
          "text": [
            "<class 'pandas.core.frame.DataFrame'>\n",
            "Int64Index: 180 entries, 0 to 179\n",
            "Data columns (total 11 columns):\n",
            " #   Column                 Non-Null Count  Dtype  \n",
            "---  ------                 --------------  -----  \n",
            " 0   id                     180 non-null    object \n",
            " 1   parent_a               180 non-null    object \n",
            " 2   parent_b               180 non-null    object \n",
            " 3   accuracy               180 non-null    float64\n",
            " 4   loss                   180 non-null    float64\n",
            " 5   n_epochs               180 non-null    int64  \n",
            " 6   training_time          180 non-null    float64\n",
            " 7   parenta_accuracy       180 non-null    float64\n",
            " 8   parenta_training_time  180 non-null    float64\n",
            " 9   parentb_accuracy       180 non-null    float64\n",
            " 10  parentb_training_time  180 non-null    float64\n",
            "dtypes: float64(7), int64(1), object(3)\n",
            "memory usage: 16.9+ KB\n",
            "<class 'pandas.core.frame.DataFrame'>\n",
            "Int64Index: 180 entries, 0 to 179\n",
            "Data columns (total 11 columns):\n",
            " #   Column                 Non-Null Count  Dtype  \n",
            "---  ------                 --------------  -----  \n",
            " 0   id                     180 non-null    object \n",
            " 1   parent_a               180 non-null    object \n",
            " 2   parent_b               180 non-null    object \n",
            " 3   accuracy               180 non-null    float64\n",
            " 4   loss                   180 non-null    float64\n",
            " 5   n_epochs               180 non-null    int64  \n",
            " 6   training_time          180 non-null    float64\n",
            " 7   parenta_accuracy       180 non-null    float64\n",
            " 8   parenta_training_time  180 non-null    float64\n",
            " 9   parentb_accuracy       180 non-null    float64\n",
            " 10  parentb_training_time  180 non-null    float64\n",
            "dtypes: float64(7), int64(1), object(3)\n",
            "memory usage: 16.9+ KB\n"
          ],
          "name": "stdout"
        }
      ]
    },
    {
      "cell_type": "code",
      "metadata": {
        "colab": {
          "base_uri": "https://localhost:8080/",
          "height": 276
        },
        "id": "l_yD5KzK21mx",
        "outputId": "bdbc05bb-2a52-492d-a976-86c785bafd97"
      },
      "source": [
        "# Plot\n",
        "\n",
        "df_merge = df_merge[df_merge[\"training_time\"]<50]\n",
        "df_van = df_van[df_van[\"training_time\"]<50]\n",
        "\n",
        "training_time_merge = df_merge[[\"training_time\"]].to_numpy()\n",
        "accuracy_list_van = df_van[[\"training_time\"]].to_numpy()\n",
        "\n",
        "#df[[\"training_time\"]].plot.hist(bins=20, alpha=0.5)\n",
        "#df[[\"accuracy\"]].plot.hist(bins=20, alpha=0.5)\n",
        "\n",
        "import matplotlib.pyplot as plt\n",
        "import numpy as np\n",
        "%matplotlib inline\n",
        "\n",
        "plt.style.use('seaborn-white')\n",
        "\n",
        "kwargs = dict(histtype='stepfilled', alpha=0.3, bins=40)\n",
        "\n",
        "plt.hist(training_time_merge, **kwargs, label='With merge')\n",
        "plt.hist(accuracy_list_van, **kwargs, label='No merge')\n",
        "\n",
        "plt.xlabel('Time (in seconds)');\n",
        "#plt.xlim(min(training_time_list), max(y))\n",
        "\n",
        "plt.ylabel('Fitness functions')\n",
        "\n",
        "plt.legend(framealpha=1, frameon=True);\n"
      ],
      "execution_count": null,
      "outputs": [
        {
          "output_type": "display_data",
          "data": {
            "image/png": "[encoded data removed]",
            "text/plain": [
              "<Figure size 432x288 with 1 Axes>"
            ]
          },
          "metadata": {
            "tags": []
          }
        }
      ]
    },
    {
      "cell_type": "code",
      "metadata": {
        "id": "yXpEzB6c9dLX"
      },
      "source": [
        ""
      ],
      "execution_count": null,
      "outputs": []
    },
    {
      "cell_type": "code",
      "metadata": {
        "id": "hXFpudJryjNm"
      },
      "source": [
        ""
      ],
      "execution_count": null,
      "outputs": []
    },
    {
      "cell_type": "code",
      "metadata": {
        "colab": {
          "base_uri": "https://localhost:8080/",
          "height": 332
        },
        "id": "avbhlVutu4n-",
        "outputId": "6d8e7f4c-05fe-4cf9-c57f-c5d27b2a42d6"
      },
      "source": [
        "import matplotlib.pyplot as plt\n",
        "fig = plt.figure()\n",
        "ax = fig.add_axes([0,0,1,1])\n",
        "langs = ['No merge', 'With merge']\n",
        "students = [sum(accuracy_list_van)[0],sum(training_time_merge)[0]]\n",
        "\n",
        "\n",
        "ax.bar(langs,students)\n",
        "plt.ylabel('Time (in seconds)')\n",
        "plt.show()"
      ],
      "execution_count": null,
      "outputs": [
        {
          "output_type": "display_data",
          "data": {
            "image/png": "[encoded data removed]",
            "text/plain": [
              "<Figure size 432x288 with 1 Axes>"
            ]
          },
          "metadata": {
            "tags": []
          }
        }
      ]
    },
    {
      "cell_type": "code",
      "metadata": {
        "id": "1y4kLafVvKJo",
        "colab": {
          "base_uri": "https://localhost:8080/"
        },
        "outputId": "11d0d953-b6b0-475b-d651-4dce132471d5"
      },
      "source": [
        "\n",
        "print(df_merge.min())\n",
        "print(df_van.min())"
      ],
      "execution_count": null,
      "outputs": [
        {
          "output_type": "stream",
          "text": [
            "id                       06a1a4e0-7993-4788-ade1-35d6063bd1a5\n",
            "parent_a                 0cf90c3b-b5b8-4ae7-bd40-3034ffbeb19f\n",
            "parent_b                 0cf90c3b-b5b8-4ae7-bd40-3034ffbeb19f\n",
            "accuracy                                              48.0439\n",
            "loss                                                 0.480439\n",
            "n_epochs                                                   11\n",
            "training_time                                         2.21058\n",
            "parenta_accuracy                                      48.0439\n",
            "parenta_training_time                                 2.29705\n",
            "parentb_accuracy                                      48.0439\n",
            "parentb_training_time                                 2.29705\n",
            "dtype: object\n",
            "id                       004e4f30-a07c-495a-85f2-58d489d162b6\n",
            "parent_a                 004e4f30-a07c-495a-85f2-58d489d162b6\n",
            "parent_b                 004e4f30-a07c-495a-85f2-58d489d162b6\n",
            "accuracy                                              44.9368\n",
            "loss                                                 0.449368\n",
            "n_epochs                                                   11\n",
            "training_time                                         2.31523\n",
            "parenta_accuracy                                      44.9368\n",
            "parenta_training_time                                 2.77149\n",
            "parentb_accuracy                                      44.9368\n",
            "parentb_training_time                                 2.77149\n",
            "dtype: object\n"
          ],
          "name": "stdout"
        }
      ]
    },
    {
      "cell_type": "code",
      "metadata": {
        "colab": {
          "base_uri": "https://localhost:8080/"
        },
        "id": "X2-J0uX-G1K9",
        "outputId": "35652e97-5759-4291-c450-cb13a5f4fcfb"
      },
      "source": [
        "print(df_merge[[\"accuracy\", \"loss\", \"n_epochs\", \"training_time\"]].describe())"
      ],
      "execution_count": null,
      "outputs": [
        {
          "output_type": "stream",
          "text": [
            "         accuracy        loss    n_epochs  training_time\n",
            "count  178.000000  178.000000  178.000000     178.000000\n",
            "mean   152.900887    1.529009   32.286517       6.653974\n",
            "std    176.116754    1.761168   26.252833       4.779483\n",
            "min     48.043865    0.480439   11.000000       2.210578\n",
            "25%     50.743644    0.507436   15.000000       3.406204\n",
            "50%     57.244626    0.572446   25.000000       5.242614\n",
            "75%    141.928935    1.419289   40.750000       8.065466\n",
            "max    566.484356    5.664844  183.000000      33.245068\n"
          ],
          "name": "stdout"
        }
      ]
    },
    {
      "cell_type": "code",
      "metadata": {
        "colab": {
          "base_uri": "https://localhost:8080/"
        },
        "id": "Hg3puKLeG9i4",
        "outputId": "abd54c63-7373-4c7e-b685-e5dba9af3e96"
      },
      "source": [
        "print(df_van[[\"accuracy\", \"loss\", \"n_epochs\", \"training_time\"]].describe())"
      ],
      "execution_count": null,
      "outputs": [
        {
          "output_type": "stream",
          "text": [
            "         accuracy        loss    n_epochs  training_time\n",
            "count  178.000000  178.000000  178.000000     178.000000\n",
            "mean   149.955040    1.499550   41.061798       9.262762\n",
            "std    167.152216    1.671522   27.094345       5.305955\n",
            "min     44.936809    0.449368   11.000000       2.315225\n",
            "25%     49.714362    0.497144   24.250000       5.372504\n",
            "50%     57.607150    0.576072   36.000000       7.876526\n",
            "75%    177.851054    1.778511   50.000000      11.354382\n",
            "max    566.532373    5.665324  204.000000      31.982385\n"
          ],
          "name": "stdout"
        }
      ]
    },
    {
      "cell_type": "code",
      "metadata": {
        "colab": {
          "base_uri": "https://localhost:8080/"
        },
        "id": "8vqECwNqHCIR",
        "outputId": "46ba2c4b-32e6-46a9-ed98-e2c3eae74d21"
      },
      "source": [
        "# https://en.wikipedia.org/wiki/Skewness\n",
        "\n",
        "df_van[[ \"training_time\"]].skew()\n"
      ],
      "execution_count": null,
      "outputs": [
        {
          "output_type": "execute_result",
          "data": {
            "text/plain": [
              "training_time    1.471797\n",
              "dtype: float64"
            ]
          },
          "metadata": {
            "tags": []
          },
          "execution_count": 23
        }
      ]
    },
    {
      "cell_type": "code",
      "metadata": {
        "colab": {
          "base_uri": "https://localhost:8080/"
        },
        "id": "L8eFegCaJTop",
        "outputId": "01d9223a-b7ab-4e87-8706-554beaed2d09"
      },
      "source": [
        "df_merge[[ \"training_time\"]].skew()"
      ],
      "execution_count": null,
      "outputs": [
        {
          "output_type": "execute_result",
          "data": {
            "text/plain": [
              "training_time    2.675971\n",
              "dtype: float64"
            ]
          },
          "metadata": {
            "tags": []
          },
          "execution_count": 24
        }
      ]
    },
    {
      "cell_type": "code",
      "metadata": {
        "id": "u3jHugR1JXnf"
      },
      "source": [
        ""
      ],
      "execution_count": null,
      "outputs": []
    }
  ]
}